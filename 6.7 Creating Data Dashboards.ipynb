{
 "cells": [
  {
   "cell_type": "code",
   "execution_count": 2,
   "id": "658a8afd-e1d2-4256-b823-6df544d72942",
   "metadata": {},
   "outputs": [],
   "source": [
    "import numpy as np\n",
    "import pandas as pd\n",
    "import matplotlib.pyplot as plt\n",
    "import seaborn as sns\n",
    "from sklearn.model_selection import train_test_split, GridSearchCV\n",
    "from sklearn.ensemble import GradientBoostingClassifier\n",
    "from sklearn.inspection import partial_dependence\n",
    "import os\n",
    "pd.set_option(\"display.max_columns\", None) # pd.reset_option(\"display.max_columns\")"
   ]
  },
  {
   "cell_type": "code",
   "execution_count": 4,
   "id": "8d57882e-a915-4282-981b-5d5df3193bb0",
   "metadata": {},
   "outputs": [],
   "source": [
    "project_path = r'C:\\Users\\cneva\\Projects\\NBA Shot Analysis\\Datasets'\n",
    "df = pd.read_csv(os.path.join(project_path,'shot_logs.csv'))"
   ]
  },
  {
   "cell_type": "code",
   "execution_count": 7,
   "id": "91e319b6-f4af-46ad-9eee-1577aa05e927",
   "metadata": {},
   "outputs": [
    {
     "name": "stderr",
     "output_type": "stream",
     "text": [
      "C:\\Users\\cneva\\AppData\\Local\\Temp\\ipykernel_6048\\3220874471.py:5: UserWarning: Could not infer format, so each element will be parsed individually, falling back to `dateutil`. To ensure parsing is consistent and as-expected, please specify a format.\n",
      "  MONTH = pd.to_datetime(df.MATCHUP.str.split(\" - \", n = 1, expand = True)[0]).dt.month, # Extracted from Matchup\n"
     ]
    },
    {
     "data": {
      "text/html": [
       "<div>\n",
       "<style scoped>\n",
       "    .dataframe tbody tr th:only-of-type {\n",
       "        vertical-align: middle;\n",
       "    }\n",
       "\n",
       "    .dataframe tbody tr th {\n",
       "        vertical-align: top;\n",
       "    }\n",
       "\n",
       "    .dataframe thead th {\n",
       "        text-align: right;\n",
       "    }\n",
       "</style>\n",
       "<table border=\"1\" class=\"dataframe\">\n",
       "  <thead>\n",
       "    <tr style=\"text-align: right;\">\n",
       "      <th></th>\n",
       "      <th>LOCATION</th>\n",
       "      <th>FINAL_MARGIN</th>\n",
       "      <th>SHOT_NUMBER</th>\n",
       "      <th>PERIOD</th>\n",
       "      <th>SHOT_CLOCK</th>\n",
       "      <th>DRIBBLES</th>\n",
       "      <th>TOUCH_TIME</th>\n",
       "      <th>SHOT_DIST</th>\n",
       "      <th>PTS_TYPE</th>\n",
       "      <th>CLOSEST_DEFENDER</th>\n",
       "      <th>CLOSE_DEF_DIST</th>\n",
       "      <th>FGM</th>\n",
       "      <th>MONTH</th>\n",
       "      <th>TEAM</th>\n",
       "      <th>OPPOSING_TEAM</th>\n",
       "      <th>PERIOD_CLOCK</th>\n",
       "    </tr>\n",
       "  </thead>\n",
       "  <tbody>\n",
       "    <tr>\n",
       "      <th>59113</th>\n",
       "      <td>H</td>\n",
       "      <td>6</td>\n",
       "      <td>3</td>\n",
       "      <td>2</td>\n",
       "      <td>8.6</td>\n",
       "      <td>4</td>\n",
       "      <td>3.0</td>\n",
       "      <td>4.2</td>\n",
       "      <td>2</td>\n",
       "      <td>Henson, John</td>\n",
       "      <td>1.5</td>\n",
       "      <td>1</td>\n",
       "      <td>1</td>\n",
       "      <td>None</td>\n",
       "      <td>SAS vs. MIL</td>\n",
       "      <td>464</td>\n",
       "    </tr>\n",
       "    <tr>\n",
       "      <th>35861</th>\n",
       "      <td>A</td>\n",
       "      <td>-3</td>\n",
       "      <td>26</td>\n",
       "      <td>4</td>\n",
       "      <td>NaN</td>\n",
       "      <td>12</td>\n",
       "      <td>9.8</td>\n",
       "      <td>7.3</td>\n",
       "      <td>2</td>\n",
       "      <td>Pondexter, Quincy</td>\n",
       "      <td>2.3</td>\n",
       "      <td>1</td>\n",
       "      <td>1</td>\n",
       "      <td>DAL</td>\n",
       "      <td>NOP</td>\n",
       "      <td>14</td>\n",
       "    </tr>\n",
       "    <tr>\n",
       "      <th>47670</th>\n",
       "      <td>H</td>\n",
       "      <td>4</td>\n",
       "      <td>8</td>\n",
       "      <td>3</td>\n",
       "      <td>24.0</td>\n",
       "      <td>0</td>\n",
       "      <td>0.1</td>\n",
       "      <td>1.7</td>\n",
       "      <td>2</td>\n",
       "      <td>Garnett, Kevin</td>\n",
       "      <td>0.0</td>\n",
       "      <td>0</td>\n",
       "      <td>12</td>\n",
       "      <td>None</td>\n",
       "      <td>CLE vs. BKN</td>\n",
       "      <td>485</td>\n",
       "    </tr>\n",
       "    <tr>\n",
       "      <th>45681</th>\n",
       "      <td>H</td>\n",
       "      <td>-23</td>\n",
       "      <td>3</td>\n",
       "      <td>2</td>\n",
       "      <td>20.6</td>\n",
       "      <td>0</td>\n",
       "      <td>0.6</td>\n",
       "      <td>5.0</td>\n",
       "      <td>2</td>\n",
       "      <td>Butler, Caron</td>\n",
       "      <td>2.3</td>\n",
       "      <td>0</td>\n",
       "      <td>12</td>\n",
       "      <td>None</td>\n",
       "      <td>CLE vs. DET</td>\n",
       "      <td>394</td>\n",
       "    </tr>\n",
       "    <tr>\n",
       "      <th>2188</th>\n",
       "      <td>H</td>\n",
       "      <td>-28</td>\n",
       "      <td>13</td>\n",
       "      <td>4</td>\n",
       "      <td>18.9</td>\n",
       "      <td>3</td>\n",
       "      <td>4.7</td>\n",
       "      <td>4.2</td>\n",
       "      <td>2</td>\n",
       "      <td>Drummond, Andre</td>\n",
       "      <td>2.1</td>\n",
       "      <td>1</td>\n",
       "      <td>2</td>\n",
       "      <td>None</td>\n",
       "      <td>CHA vs. DET</td>\n",
       "      <td>377</td>\n",
       "    </tr>\n",
       "  </tbody>\n",
       "</table>\n",
       "</div>"
      ],
      "text/plain": [
       "      LOCATION  FINAL_MARGIN  SHOT_NUMBER  PERIOD  SHOT_CLOCK  DRIBBLES  \\\n",
       "59113        H             6            3       2         8.6         4   \n",
       "35861        A            -3           26       4         NaN        12   \n",
       "47670        H             4            8       3        24.0         0   \n",
       "45681        H           -23            3       2        20.6         0   \n",
       "2188         H           -28           13       4        18.9         3   \n",
       "\n",
       "       TOUCH_TIME  SHOT_DIST  PTS_TYPE   CLOSEST_DEFENDER  CLOSE_DEF_DIST  \\\n",
       "59113         3.0        4.2         2       Henson, John             1.5   \n",
       "35861         9.8        7.3         2  Pondexter, Quincy             2.3   \n",
       "47670         0.1        1.7         2     Garnett, Kevin             0.0   \n",
       "45681         0.6        5.0         2      Butler, Caron             2.3   \n",
       "2188          4.7        4.2         2    Drummond, Andre             2.1   \n",
       "\n",
       "       FGM  MONTH  TEAM OPPOSING_TEAM  PERIOD_CLOCK  \n",
       "59113    1      1  None   SAS vs. MIL           464  \n",
       "35861    1      1   DAL           NOP            14  \n",
       "47670    0     12  None   CLE vs. BKN           485  \n",
       "45681    0     12  None   CLE vs. DET           394  \n",
       "2188     1      2  None   CHA vs. DET           377  "
      ]
     },
     "execution_count": 7,
     "metadata": {},
     "output_type": "execute_result"
    }
   ],
   "source": [
    "df = \\\n",
    "(df\n",
    " .drop([\"CLOSEST_DEFENDER_PLAYER_ID\", \"GAME_ID\", \"player_name\", \"player_id\"], axis = 1)\n",
    " .assign(\n",
    "     MONTH = pd.to_datetime(df.MATCHUP.str.split(\" - \", n = 1, expand = True)[0]).dt.month, # Extracted from Matchup\n",
    "     HOME_TEAM = df.MATCHUP.str.split(\"- \", expand = True)[1].str.split(\" @ \", expand = True)[1], # Inbetween column to TEAM/OPPOSING_TEAM\n",
    "     AWAY_TEAM = df.MATCHUP.str.split(\"- \", expand = True)[1].str.split(\" @ \", expand = True)[0], # Inbetween column to TEAM/OPPOSING_TEAM\n",
    "     TEAM = lambda df: np.where(df.LOCATION == \"A\", df.AWAY_TEAM, df.HOME_TEAM), # Team/Opposing team extracted from Matchup\n",
    "     OPPOSING_TEAM = lambda df: np.where(df.LOCATION == \"H\", df.AWAY_TEAM, df.HOME_TEAM), # Team/Opposing team extracted from Matchup\n",
    "     PERIOD_CLOCK = lambda df: pd.to_datetime(df.GAME_CLOCK, format = \"%M:%S\").dt.minute * 60 + pd.to_datetime(df.GAME_CLOCK, format = \"%M:%S\").dt.second, # Convert Timer\n",
    "     SHOT_RESULT = lambda x: pd.get_dummies(x[\"SHOT_RESULT\"])[\"made\"].astype(\"bool\").equals(x[\"FGM\"].astype(\"bool\"))\n",
    " )\n",
    " .drop([\"MATCHUP\", \"HOME_TEAM\", \"AWAY_TEAM\", \"GAME_CLOCK\", \"SHOT_RESULT\", \"PTS\", \"W\"], axis = 1) # Drop unnecessary columns\n",
    ")\n",
    "\n",
    "df.sample(5)"
   ]
  },
  {
   "cell_type": "code",
   "execution_count": 57,
   "id": "b6757890-0478-415a-8dff-8c22dfff925e",
   "metadata": {},
   "outputs": [
    {
     "data": {
      "text/plain": [
       "Index(['LOCATION', 'FINAL_MARGIN', 'SHOT_NUMBER', 'PERIOD', 'SHOT_CLOCK',\n",
       "       'DRIBBLES', 'TOUCH_TIME', 'SHOT_DIST', 'PTS_TYPE', 'CLOSEST_DEFENDER',\n",
       "       'CLOSE_DEF_DIST', 'FGM', 'MONTH', 'TEAM', 'OPPOSING_TEAM',\n",
       "       'PERIOD_CLOCK'],\n",
       "      dtype='object')"
      ]
     },
     "execution_count": 57,
     "metadata": {},
     "output_type": "execute_result"
    }
   ],
   "source": [
    "df.columns"
   ]
  },
  {
   "cell_type": "code",
   "execution_count": 65,
   "id": "e9ed7d7c-7350-4f00-84bb-135e87829ebb",
   "metadata": {},
   "outputs": [
    {
     "name": "stderr",
     "output_type": "stream",
     "text": [
      "C:\\Users\\cneva\\AppData\\Local\\Temp\\ipykernel_6048\\211053576.py:2: FutureWarning: A value is trying to be set on a copy of a DataFrame or Series through chained assignment using an inplace method.\n",
      "The behavior will change in pandas 3.0. This inplace method will never work because the intermediate object on which we are setting values always behaves as a copy.\n",
      "\n",
      "For example, when doing 'df[col].method(value, inplace=True)', try using 'df.method({col: value}, inplace=True)' or df[col] = df[col].method(value) instead, to perform the operation inplace on the original object.\n",
      "\n",
      "\n",
      "  .assign(SHOT_CLOCK = lambda df: df.SHOT_CLOCK.fillna(df.SHOT_CLOCK.mean(), inplace = True))\n"
     ]
    }
   ],
   "source": [
    "df_ml = \\\n",
    "(df\n",
    " .assign(SHOT_CLOCK = lambda df: df.SHOT_CLOCK.fillna(df.SHOT_CLOCK.mean(), inplace = True))\n",
    " .loc[:,['FINAL_MARGIN', 'CLOSE_DEF_DIST', 'SHOT_DIST', 'PTS_TYPE', 'TOUCH_TIME', 'PERIOD', 'SHOT_CLOCK', 'SHOT_NUMBER', 'DRIBBLES']]\n",
    " # 'LOCATION','CLOSEST_DEFENDER','FGM', 'MONTH', 'TEAM', 'OPPOSING_TEAM','PERIOD_CLOCK'\n",
    ")\n",
    "\n",
    "X_ = df_ml.drop(\"FGM\", axis = 1)\n",
    "y_ = df_ml[\"FGM\"]\n",
    "X_train, X_test, y_train, y_test = train_test_split(X_, \n",
    "                                                    y_, \n",
    "                                                    test_size = 0.3, \n",
    "                                                    random_state = 123)"
   ]
  },
  {
   "cell_type": "code",
   "execution_count": 12,
   "id": "c43817e1-8152-4f25-823e-777a5ac05dc1",
   "metadata": {},
   "outputs": [
    {
     "data": {
      "text/plain": [
       "{'learning_rate': 0.1}"
      ]
     },
     "execution_count": 12,
     "metadata": {},
     "output_type": "execute_result"
    }
   ],
   "source": [
    "cv_model = ( \\\n",
    "    GridSearchCV(\n",
    "        GradientBoostingClassifier(random_state = 123), \n",
    "        param_grid={\"learning_rate\": np.logspace(-3, -1, 3)}\n",
    "    ).fit(X_train, y_train)\n",
    "    \n",
    "cv_model.best_params_"
   ]
  },
  {
   "cell_type": "code",
   "execution_count": 13,
   "id": "fc3a6f04-01d1-4f4b-b105-4d2865ea676f",
   "metadata": {},
   "outputs": [
    {
     "data": {
      "text/plain": [
       "0.6188802998360272"
      ]
     },
     "execution_count": 13,
     "metadata": {},
     "output_type": "execute_result"
    }
   ],
   "source": [
    "model = GradientBoostingClassifier(random_state = 123).fit(X_train, y_train)\n",
    "model.score(X_test, y_test)"
   ]
  },
  {
   "cell_type": "code",
   "execution_count": 19,
   "id": "f6a384f6-f409-4aa6-9fa5-1bfb077cf051",
   "metadata": {},
   "outputs": [
    {
     "data": {
      "image/png": "[encoded data removed]",
      "text/plain": [
       "<Figure size 640x480 with 1 Axes>"
      ]
     },
     "metadata": {},
     "output_type": "display_data"
    }
   ],
   "source": [
    "features = X_train.columns\n",
    "feature_significance = pd.DataFrame({\"Feature\": features, \n",
    "                                     \"Importance\": model.feature_importances_})\n",
    "feature_significance.sort_values(\"Importance\", \n",
    "                                 ascending=False, \n",
    "                                 inplace=True)\n",
    "feature_significance.reset_index(drop=True, inplace=True)\n",
    "feature_significance.index += 1\n",
    "feature_significance.at[1, \"Feature\"] = \"Shot Distance\"\n",
    "feature_significance.at[2, \"Feature\"] = \"Defender Distance from Shooter\"\n",
    "feature_significance.at[3, \"Feature\"] = \"Ball Possession Time Prior to Shot (s)\"\n",
    "feature_significance.at[4, \"Feature\"] = \"Final Margin\"\n",
    "feature_significance.at[5, \"Feature\"] = \"Time Remaining on Shot Clock (s)\"\n",
    "feature_significance.at[6, \"Feature\"] = \"Number of Dribbles Prior to Shot\"\n",
    "feature_significance.at[7, \"Feature\"] = \"Shot Type\"\n",
    "feature_significance.at[8, \"Feature\"] = \"Shot Number\"\n",
    "feature_significance.at[9, \"Feature\"] = \"Quarter\"\n",
    "ax = sns.barplot(x = feature_significance[\"Importance\"], y = feature_significance[\"Feature\"], orient=\"h\")"
   ]
  }
 ],
 "metadata": {
  "kernelspec": {
   "display_name": "Python 3 (ipykernel)",
   "language": "python",
   "name": "python3"
  },
  "language_info": {
   "codemirror_mode": {
    "name": "ipython",
    "version": 3
   },
   "file_extension": ".py",
   "mimetype": "text/x-python",
   "name": "python",
   "nbconvert_exporter": "python",
   "pygments_lexer": "ipython3",
   "version": "3.11.7"
  }
 },
 "nbformat": 4,
 "nbformat_minor": 5
}
